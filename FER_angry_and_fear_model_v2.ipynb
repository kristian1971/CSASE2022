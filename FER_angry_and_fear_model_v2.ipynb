{
  "nbformat": 4,
  "nbformat_minor": 0,
  "metadata": {
    "colab": {
      "name": "FER_angry_and_fear_model_v2.ipynb",
      "provenance": [],
      "collapsed_sections": []
    },
    "kernelspec": {
      "name": "python3",
      "display_name": "Python 3"
    },
    "accelerator": "GPU"
  },
  "cells": [
    {
      "cell_type": "code",
      "metadata": {
        "id": "ZjgilgDYSTUP",
        "colab": {
          "base_uri": "https://localhost:8080/"
        },
        "outputId": "38a4a431-caac-41dd-90e7-166fb0cfbe88"
      },
      "source": [
        "from google.colab import drive\n",
        "drive.mount(\"/content/drive\")"
      ],
      "execution_count": 1,
      "outputs": [
        {
          "output_type": "stream",
          "name": "stdout",
          "text": [
            "Mounted at /content/drive\n"
          ]
        }
      ]
    },
    {
      "cell_type": "code",
      "metadata": {
        "colab": {
          "base_uri": "https://localhost:8080/"
        },
        "id": "AGAs3ionvlzA",
        "outputId": "0f83ebd5-0f5f-4891-b30b-e5624a0be4f8"
      },
      "source": [
        "cd /content/drive/MyDrive/ESP3"
      ],
      "execution_count": 2,
      "outputs": [
        {
          "output_type": "stream",
          "name": "stdout",
          "text": [
            "/content/drive/MyDrive/ESP3\n"
          ]
        }
      ]
    },
    {
      "cell_type": "code",
      "metadata": {
        "id": "VNDnB7UK8KO8"
      },
      "source": [
        "import numpy as np\n",
        "import pandas as pd\n",
        "import matplotlib.pyplot as plt\n",
        "import cv2\n",
        "from keras.models import Sequential\n",
        "from keras.layers import Dense,Dropout,BatchNormalization,Conv2D,Flatten,MaxPooling2D"
      ],
      "execution_count": 3,
      "outputs": []
    },
    {
      "cell_type": "code",
      "metadata": {
        "id": "qN64UIEG8v9e"
      },
      "source": [
        "from sklearn.model_selection import train_test_split"
      ],
      "execution_count": 4,
      "outputs": []
    },
    {
      "cell_type": "code",
      "metadata": {
        "id": "wHxtOmULkAJ4"
      },
      "source": [
        "features=np.load(\"images_0123456g.npy\")\n",
        "labels=np.load(\"labels_0123456g.npy\")"
      ],
      "execution_count": 5,
      "outputs": []
    },
    {
      "cell_type": "code",
      "metadata": {
        "id": "xLxIv0e5AMdx"
      },
      "source": [
        "from keras.utils.np_utils import to_categorical\n",
        "labels=to_categorical(labels)"
      ],
      "execution_count": 6,
      "outputs": []
    },
    {
      "cell_type": "code",
      "metadata": {
        "colab": {
          "base_uri": "https://localhost:8080/"
        },
        "id": "3COv9XIKkGNC",
        "outputId": "86ddd249-b429-4f55-cc50-ab448c5c50d7"
      },
      "source": [
        "features.shape"
      ],
      "execution_count": 7,
      "outputs": [
        {
          "output_type": "execute_result",
          "data": {
            "text/plain": [
              "(35887, 48, 48)"
            ]
          },
          "metadata": {},
          "execution_count": 7
        }
      ]
    },
    {
      "cell_type": "code",
      "metadata": {
        "id": "emdF_3nkdO6K"
      },
      "source": [
        "#add dimension to images\n",
        "features = features.reshape(35887, 48, 48,1)"
      ],
      "execution_count": 8,
      "outputs": []
    },
    {
      "cell_type": "code",
      "metadata": {
        "id": "emtALDcU8_RS"
      },
      "source": [
        "feature_train,feature_test,label_train,label_test=train_test_split(features,labels,test_size=0.2,random_state=7)"
      ],
      "execution_count": 9,
      "outputs": []
    },
    {
      "cell_type": "code",
      "metadata": {
        "colab": {
          "base_uri": "https://localhost:8080/"
        },
        "id": "-Tz0vw3LrNbC",
        "outputId": "6edc2f02-a66f-4d31-a42a-b1011917e9e9"
      },
      "source": [
        "feature_test.shape"
      ],
      "execution_count": 10,
      "outputs": [
        {
          "output_type": "execute_result",
          "data": {
            "text/plain": [
              "(7178, 48, 48, 1)"
            ]
          },
          "metadata": {},
          "execution_count": 10
        }
      ]
    },
    {
      "cell_type": "code",
      "metadata": {
        "id": "T6uNXtVMdaoW"
      },
      "source": [
        "def plot_acc_loss(history):\n",
        "    # Plot accuracy graph\n",
        "    plt.plot(history.history['accuracy'], label='accuracy')\n",
        "    plt.plot(history.history['val_accuracy'], label='val_accuracy')\n",
        "    plt.xlabel('Epoch')\n",
        "    plt.ylabel('accuracy')\n",
        "    plt.ylim([0, 1.0])\n",
        "    plt.legend(loc='upper left')\n",
        "    plt.show()\n",
        "\n",
        "    # Plot loss graph\n",
        "    plt.plot(history.history['loss'], label='loss')\n",
        "    plt.plot(history.history['val_loss'], label='val_loss')\n",
        "    plt.xlabel('Epoch')\n",
        "    plt.ylabel('Loss')\n",
        "    # plt.ylim([0, 3.5])\n",
        "    plt.legend(loc='upper right')\n",
        "    plt.show()"
      ],
      "execution_count": 11,
      "outputs": []
    },
    {
      "cell_type": "code",
      "metadata": {
        "id": "g2XSQox59jzC",
        "colab": {
          "base_uri": "https://localhost:8080/"
        },
        "outputId": "60f6c2c7-3637-44bb-8ff0-bfbca9e3c42a"
      },
      "source": [
        "model=Sequential()\n",
        "model.add(Conv2D(64,kernel_size=(3,3), padding=\"same\",input_shape=(48,48,1),activation='relu'))\n",
        "model.add(BatchNormalization())\n",
        "model.add(MaxPooling2D(pool_size=(2,2)))\n",
        "model.add(Conv2D(128,kernel_size=(3,3), padding=\"same\",activation='relu'))\n",
        "model.add(BatchNormalization())\n",
        "model.add(MaxPooling2D(pool_size=(2,2)))\n",
        "model.add(Conv2D(256,kernel_size=(3,3), padding=\"same\",activation='relu'))\n",
        "model.add(BatchNormalization())\n",
        "model.add(MaxPooling2D(pool_size=(2,2)))\n",
        "model.add(Flatten())\n",
        "#model.add(Dropout(0.5))\n",
        "model.add(Dense(128,activation='relu'))\n",
        "model.add(Dense(7,activation='softmax'))\n",
        "model.summary()"
      ],
      "execution_count": 12,
      "outputs": [
        {
          "output_type": "stream",
          "name": "stdout",
          "text": [
            "Model: \"sequential\"\n",
            "_________________________________________________________________\n",
            " Layer (type)                Output Shape              Param #   \n",
            "=================================================================\n",
            " conv2d (Conv2D)             (None, 48, 48, 64)        640       \n",
            "                                                                 \n",
            " batch_normalization (BatchN  (None, 48, 48, 64)       256       \n",
            " ormalization)                                                   \n",
            "                                                                 \n",
            " max_pooling2d (MaxPooling2D  (None, 24, 24, 64)       0         \n",
            " )                                                               \n",
            "                                                                 \n",
            " conv2d_1 (Conv2D)           (None, 24, 24, 128)       73856     \n",
            "                                                                 \n",
            " batch_normalization_1 (Batc  (None, 24, 24, 128)      512       \n",
            " hNormalization)                                                 \n",
            "                                                                 \n",
            " max_pooling2d_1 (MaxPooling  (None, 12, 12, 128)      0         \n",
            " 2D)                                                             \n",
            "                                                                 \n",
            " conv2d_2 (Conv2D)           (None, 12, 12, 256)       295168    \n",
            "                                                                 \n",
            " batch_normalization_2 (Batc  (None, 12, 12, 256)      1024      \n",
            " hNormalization)                                                 \n",
            "                                                                 \n",
            " max_pooling2d_2 (MaxPooling  (None, 6, 6, 256)        0         \n",
            " 2D)                                                             \n",
            "                                                                 \n",
            " flatten (Flatten)           (None, 9216)              0         \n",
            "                                                                 \n",
            " dense (Dense)               (None, 128)               1179776   \n",
            "                                                                 \n",
            " dense_1 (Dense)             (None, 7)                 903       \n",
            "                                                                 \n",
            "=================================================================\n",
            "Total params: 1,552,135\n",
            "Trainable params: 1,551,239\n",
            "Non-trainable params: 896\n",
            "_________________________________________________________________\n"
          ]
        }
      ]
    },
    {
      "cell_type": "code",
      "metadata": {
        "id": "cMwjFaMl-dv2"
      },
      "source": [
        "model.compile(loss='categorical_crossentropy',optimizer='Adam',metrics=['accuracy'])"
      ],
      "execution_count": 13,
      "outputs": []
    },
    {
      "cell_type": "code",
      "metadata": {
        "id": "GDqpCRN0_vzW",
        "colab": {
          "base_uri": "https://localhost:8080/"
        },
        "outputId": "dfea0f94-154f-4903-f0b6-7f5866dd43d1"
      },
      "source": [
        "history = model.fit(feature_train,label_train,batch_size=64, \n",
        "            epochs=30, \n",
        "            verbose=1, \n",
        "            validation_data=(feature_test,label_test),\n",
        "            shuffle=True\n",
        ")"
      ],
      "execution_count": 14,
      "outputs": [
        {
          "metadata": {
            "tags": null
          },
          "name": "stdout",
          "output_type": "stream",
          "text": [
            "Epoch 1/30\n",
            "449/449 [==============================] - 24s 32ms/step - loss: 1.6844 - accuracy: 0.3833 - val_loss: 1.5458 - val_accuracy: 0.4033\n",
            "Epoch 2/30\n",
            "449/449 [==============================] - 14s 31ms/step - loss: 1.2788 - accuracy: 0.5089 - val_loss: 1.3925 - val_accuracy: 0.4714\n",
            "Epoch 3/30\n",
            "449/449 [==============================] - 14s 31ms/step - loss: 1.1537 - accuracy: 0.5640 - val_loss: 1.3145 - val_accuracy: 0.5061\n",
            "Epoch 4/30\n",
            "449/449 [==============================] - 14s 31ms/step - loss: 1.0436 - accuracy: 0.6055 - val_loss: 1.3159 - val_accuracy: 0.5043\n",
            "Epoch 5/30\n",
            "449/449 [==============================] - 14s 31ms/step - loss: 0.9381 - accuracy: 0.6522 - val_loss: 1.3171 - val_accuracy: 0.5249\n",
            "Epoch 6/30\n",
            "449/449 [==============================] - 14s 32ms/step - loss: 0.8118 - accuracy: 0.6986 - val_loss: 1.3057 - val_accuracy: 0.5340\n",
            "Epoch 7/30\n",
            "449/449 [==============================] - 14s 31ms/step - loss: 0.6698 - accuracy: 0.7555 - val_loss: 1.3572 - val_accuracy: 0.5354\n",
            "Epoch 8/30\n",
            "449/449 [==============================] - 14s 31ms/step - loss: 0.5309 - accuracy: 0.8082 - val_loss: 1.7541 - val_accuracy: 0.4990\n",
            "Epoch 9/30\n",
            "449/449 [==============================] - 14s 31ms/step - loss: 0.4092 - accuracy: 0.8563 - val_loss: 1.6211 - val_accuracy: 0.5396\n",
            "Epoch 10/30\n",
            "449/449 [==============================] - 14s 31ms/step - loss: 0.3116 - accuracy: 0.8931 - val_loss: 2.0630 - val_accuracy: 0.5361\n",
            "Epoch 11/30\n",
            "449/449 [==============================] - 14s 31ms/step - loss: 0.2495 - accuracy: 0.9140 - val_loss: 1.9253 - val_accuracy: 0.5224\n",
            "Epoch 12/30\n",
            "449/449 [==============================] - 14s 31ms/step - loss: 0.2239 - accuracy: 0.9257 - val_loss: 2.2176 - val_accuracy: 0.5481\n",
            "Epoch 13/30\n",
            "449/449 [==============================] - 14s 31ms/step - loss: 0.1679 - accuracy: 0.9429 - val_loss: 2.6996 - val_accuracy: 0.5267\n",
            "Epoch 14/30\n",
            "449/449 [==============================] - 14s 31ms/step - loss: 0.1529 - accuracy: 0.9508 - val_loss: 2.5127 - val_accuracy: 0.5457\n",
            "Epoch 15/30\n",
            "449/449 [==============================] - 14s 31ms/step - loss: 0.1375 - accuracy: 0.9563 - val_loss: 2.4228 - val_accuracy: 0.5429\n",
            "Epoch 16/30\n",
            "449/449 [==============================] - 14s 31ms/step - loss: 0.1358 - accuracy: 0.9565 - val_loss: 2.4298 - val_accuracy: 0.5222\n",
            "Epoch 17/30\n",
            "449/449 [==============================] - 14s 31ms/step - loss: 0.1201 - accuracy: 0.9638 - val_loss: 2.6311 - val_accuracy: 0.5492\n",
            "Epoch 18/30\n",
            "449/449 [==============================] - 14s 32ms/step - loss: 0.0951 - accuracy: 0.9724 - val_loss: 2.6774 - val_accuracy: 0.5443\n",
            "Epoch 19/30\n",
            "449/449 [==============================] - 14s 32ms/step - loss: 0.1098 - accuracy: 0.9643 - val_loss: 2.7507 - val_accuracy: 0.5111\n",
            "Epoch 20/30\n",
            "449/449 [==============================] - 14s 31ms/step - loss: 0.1299 - accuracy: 0.9586 - val_loss: 2.6744 - val_accuracy: 0.5559\n",
            "Epoch 21/30\n",
            "449/449 [==============================] - 14s 31ms/step - loss: 0.0945 - accuracy: 0.9702 - val_loss: 2.7841 - val_accuracy: 0.5394\n",
            "Epoch 22/30\n",
            "449/449 [==============================] - 14s 31ms/step - loss: 0.0875 - accuracy: 0.9736 - val_loss: 2.8732 - val_accuracy: 0.5566\n",
            "Epoch 23/30\n",
            "449/449 [==============================] - 14s 32ms/step - loss: 0.0757 - accuracy: 0.9773 - val_loss: 2.6487 - val_accuracy: 0.5084\n",
            "Epoch 24/30\n",
            "449/449 [==============================] - 14s 32ms/step - loss: 0.1018 - accuracy: 0.9687 - val_loss: 3.3297 - val_accuracy: 0.5412\n",
            "Epoch 25/30\n",
            "449/449 [==============================] - 14s 32ms/step - loss: 0.0915 - accuracy: 0.9720 - val_loss: 2.8250 - val_accuracy: 0.5454\n",
            "Epoch 26/30\n",
            "449/449 [==============================] - 14s 31ms/step - loss: 0.0744 - accuracy: 0.9766 - val_loss: 3.1831 - val_accuracy: 0.5605\n",
            "Epoch 27/30\n",
            "449/449 [==============================] - 14s 31ms/step - loss: 0.0698 - accuracy: 0.9785 - val_loss: 3.8730 - val_accuracy: 0.5295\n",
            "Epoch 28/30\n",
            "449/449 [==============================] - 14s 32ms/step - loss: 0.0666 - accuracy: 0.9813 - val_loss: 2.8977 - val_accuracy: 0.5556\n",
            "Epoch 29/30\n",
            "449/449 [==============================] - 14s 31ms/step - loss: 0.0707 - accuracy: 0.9782 - val_loss: 3.2638 - val_accuracy: 0.5528\n",
            "Epoch 30/30\n",
            "449/449 [==============================] - 14s 32ms/step - loss: 0.0958 - accuracy: 0.9699 - val_loss: 3.4084 - val_accuracy: 0.5369\n"
          ]
        }
      ]
    },
    {
      "cell_type": "code",
      "metadata": {
        "colab": {
          "base_uri": "https://localhost:8080/",
          "height": 546
        },
        "id": "FYbjZjjFdUdm",
        "outputId": "3aa7758f-3dbc-43c2-d612-1827e3a146d9"
      },
      "source": [
        "plot_acc_loss(history)"
      ],
      "execution_count": 15,
      "outputs": [
        {
          "output_type": "display_data",
          "data": {
            "image/png": "[encoded data removed]",
            "text/plain": [
              "<Figure size 432x288 with 1 Axes>"
            ]
          },
          "metadata": {
            "needs_background": "light"
          }
        },
        {
          "output_type": "display_data",
          "data": {
            "image/png": "[encoded data removed]",
            "text/plain": [
              "<Figure size 432x288 with 1 Axes>"
            ]
          },
          "metadata": {
            "needs_background": "light"
          }
        }
      ]
    },
    {
      "cell_type": "code",
      "metadata": {
        "id": "E2w57JonTn0I",
        "colab": {
          "base_uri": "https://localhost:8080/"
        },
        "outputId": "af5d8216-0129-4ea1-f14a-23fc10c4c46e"
      },
      "source": [
        "#JEDNA PROMJENE!!!!!!!!!!!!!!!!!!!!!!!!!!!!!!!!!!!!!!!!!!!!!!!!!!!!!!!!!!!!!!!!!!!!!!!!\n",
        "model.save(\"model_ks17x17\")"
      ],
      "execution_count": null,
      "outputs": [
        {
          "output_type": "stream",
          "text": [
            "INFO:tensorflow:Assets written to: model_ks17x17/assets\n"
          ],
          "name": "stdout"
        },
        {
          "output_type": "stream",
          "text": [
            "INFO:tensorflow:Assets written to: model_ks17x17/assets\n"
          ],
          "name": "stderr"
        }
      ]
    },
    {
      "cell_type": "code",
      "metadata": {
        "id": "5wovl5hO0dl4",
        "colab": {
          "base_uri": "https://localhost:8080/"
        },
        "outputId": "77621419-a3ad-4c24-b42d-67a84b05c6a8"
      },
      "source": [
        "predictions = model.predict(feature_test)\n",
        "print(predictions)\n",
        "predictions1 = np.rint(predictions)\n",
        "print(predictions1)\n",
        "print(\"__________\")\n",
        "print(label_test)"
      ],
      "execution_count": 16,
      "outputs": [
        {
          "output_type": "stream",
          "name": "stdout",
          "text": [
            "[[6.75843785e-06 1.50427643e-10 2.15504486e-02 ... 1.24218054e-02\n",
            "  1.35588161e-05 2.53380040e-06]\n",
            " [7.17592239e-03 3.71874143e-10 1.31496985e-04 ... 8.61361059e-06\n",
            "  1.21961637e-06 5.63356552e-05]\n",
            " [1.14036359e-01 2.89958942e-12 3.17600816e-01 ... 1.13673914e-05\n",
            "  5.67406714e-01 2.74984523e-05]\n",
            " ...\n",
            " [3.62658054e-01 3.41382001e-05 1.68011785e-01 ... 1.37329444e-01\n",
            "  3.03714420e-04 1.16392961e-02]\n",
            " [4.75168321e-03 5.48493910e-18 1.10162682e-05 ... 2.26553084e-06\n",
            "  6.08356061e-07 6.70899868e-01]\n",
            " [9.60557580e-01 1.07336404e-04 3.33523117e-02 ... 5.54977730e-03\n",
            "  4.60697692e-07 4.32583882e-04]]\n",
            "[[0. 0. 0. ... 0. 0. 0.]\n",
            " [0. 0. 0. ... 0. 0. 0.]\n",
            " [0. 0. 0. ... 0. 1. 0.]\n",
            " ...\n",
            " [0. 0. 0. ... 0. 0. 0.]\n",
            " [0. 0. 0. ... 0. 0. 1.]\n",
            " [1. 0. 0. ... 0. 0. 0.]]\n",
            "__________\n",
            "[[0. 0. 0. ... 0. 0. 0.]\n",
            " [0. 0. 0. ... 0. 0. 0.]\n",
            " [0. 0. 1. ... 0. 0. 0.]\n",
            " ...\n",
            " [0. 0. 0. ... 0. 0. 0.]\n",
            " [0. 0. 0. ... 0. 0. 0.]\n",
            " [0. 0. 0. ... 0. 0. 1.]]\n"
          ]
        }
      ]
    },
    {
      "cell_type": "code",
      "metadata": {
        "id": "FI0f2W2X1gcX",
        "colab": {
          "base_uri": "https://localhost:8080/"
        },
        "outputId": "195201d7-1400-4d76-e846-15efd27ba616"
      },
      "source": [
        "model.evaluate(feature_test,label_test)"
      ],
      "execution_count": 17,
      "outputs": [
        {
          "output_type": "stream",
          "name": "stdout",
          "text": [
            "225/225 [==============================] - 2s 9ms/step - loss: 3.4084 - accuracy: 0.5369\n"
          ]
        },
        {
          "output_type": "execute_result",
          "data": {
            "text/plain": [
              "[3.4083962440490723, 0.5369183421134949]"
            ]
          },
          "metadata": {},
          "execution_count": 17
        }
      ]
    },
    {
      "cell_type": "code",
      "source": [
        "import sklearn\n",
        "import matplotlib.pyplot as plt\n",
        "import seaborn as sns\n",
        "import pandas as pd \n",
        "\n",
        "cm = sklearn.metrics.confusion_matrix(label_test.argmax(axis=1), predictions1.argmax(axis=1))\n",
        "#print(confusion_matrix)\n",
        "cm = pd.DataFrame(cm, range(7),range(7))\n",
        "plt.figure(figsize = (10,10))\n",
        "\n",
        "sns.heatmap(cm, annot=True, fmt='g', annot_kws={\"size\": 12}) # font size\n",
        "plt.show()"
      ],
      "metadata": {
        "colab": {
          "base_uri": "https://localhost:8080/",
          "height": 592
        },
        "id": "Z7U0FCHBWh7U",
        "outputId": "8763454f-aa11-4b3a-b67c-9dd1ad945bc6"
      },
      "execution_count": 20,
      "outputs": [
        {
          "output_type": "display_data",
          "data": {
            "image/png": "[encoded data removed]",
            "text/plain": [
              "<Figure size 720x720 with 2 Axes>"
            ]
          },
          "metadata": {
            "needs_background": "light"
          }
        }
      ]
    },
    {
      "cell_type": "code",
      "metadata": {
        "id": "y-wXk9Vr2a9t"
      },
      "source": [
        "#DVIJE PROMJENE!!!!!!!!!!!!!!!!!!!!!!!!!!!!!!!!!!!!!!!!!!!!!!!!!!!!!!!!!!!!!!!!!!!!!!!!\n",
        "import tensorflow as tf\n",
        "\n",
        "# Convert the model\n",
        "converter = tf.lite.TFLiteConverter.from_saved_model(\"model_ks17x17\") # path to the SavedModel directory\n",
        "tflite_model = converter.convert()\n",
        "\n",
        "# Save the model.\n",
        "with open('model_ks17x17.tflite', 'wb') as f:\n",
        "  f.write(tflite_model)"
      ],
      "execution_count": null,
      "outputs": []
    },
    {
      "cell_type": "code",
      "metadata": {
        "id": "7hq-uhbKDQPy",
        "colab": {
          "base_uri": "https://localhost:8080/"
        },
        "outputId": "549d08d1-e0c8-4ef8-87ce-03e27a511c38"
      },
      "source": [
        "import tensorflow as tf\n",
        "def representative_data_gen():\n",
        "  for input_value in tf.data.Dataset.from_tensor_slices(features).batch(1).take(100):\n",
        "    yield [input_value]\n",
        "\n",
        "converter = tf.lite.TFLiteConverter.from_keras_model(model)\n",
        "converter.optimizations = [tf.lite.Optimize.DEFAULT]\n",
        "converter.representative_dataset = representative_data_gen\n",
        "# Ensure that if any ops can't be quantized, the converter throws an error\n",
        "converter.target_spec.supported_ops = [tf.lite.OpsSet.TFLITE_BUILTINS_INT8]\n",
        "# Set the input and output tensors to uint8 (APIs added in r2.3)\n",
        "#ja brisao u ispred int8 dvaput\n",
        "converter.inference_input_type = tf.int8\n",
        "converter.inference_output_type = tf.int8\n",
        "\n",
        "tflite_model_quant = converter.convert()"
      ],
      "execution_count": null,
      "outputs": [
        {
          "output_type": "stream",
          "text": [
            "INFO:tensorflow:Assets written to: /tmp/tmpveckek68/assets\n"
          ],
          "name": "stdout"
        },
        {
          "output_type": "stream",
          "text": [
            "INFO:tensorflow:Assets written to: /tmp/tmpveckek68/assets\n"
          ],
          "name": "stderr"
        }
      ]
    },
    {
      "cell_type": "code",
      "metadata": {
        "id": "bCb3-h8KEKi3",
        "colab": {
          "base_uri": "https://localhost:8080/"
        },
        "outputId": "9868d9a8-f6f9-4595-f81e-f3625d445c71"
      },
      "source": [
        "#DVIJE PROMJENE!!!!!!!!!!!!!!!!!!!!!!!!!!!!!!!!!!!!!!!!!!!!!!!!!!!!!!!!!!!!!!!!!!!!!!!!\n",
        "import pathlib\n",
        "\n",
        "tflite_models_dir = pathlib.Path(\"/content/drive/My Drive/ESP4\")\n",
        "tflite_models_dir.mkdir(exist_ok=True, parents=True)\n",
        "\n",
        "# Save the unquantized/float model:\n",
        "tflite_model_file = tflite_models_dir/\"model_ks17x17.tflite\"\n",
        "tflite_model_file.write_bytes(tflite_model)\n",
        "# Save the quantized model:\n",
        "tflite_model_quant_file = tflite_models_dir/\"model_ks17x17q.tflite\"\n",
        "#tflite_model_quant_file = \"mnist_model_quant2.tflite\"\n",
        "tflite_model_quant_file.write_bytes(tflite_model_quant)"
      ],
      "execution_count": null,
      "outputs": [
        {
          "output_type": "execute_result",
          "data": {
            "text/plain": [
              "11894288"
            ]
          },
          "metadata": {
            "tags": []
          },
          "execution_count": 70
        }
      ]
    }
  ]
}